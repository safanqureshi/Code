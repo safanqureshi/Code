{
 "cells": [
  {
   "cell_type": "markdown",
   "id": "df921ebe",
   "metadata": {},
   "source": [
    "### Applied the karatsuba integer multiplication algorithm to compute prduct of 64-bit integers in Python."
   ]
  },
  {
   "cell_type": "code",
   "execution_count": 1,
   "id": "b0f753b1",
   "metadata": {},
   "outputs": [],
   "source": [
    "import math \n",
    "def karatsuba(num1, num2):\n",
    "    \n",
    "    if (num1 < 10 or num2 < 10): return num1 * num2\n",
    "\n",
    "    n1 = str(num1)\n",
    "    n2 = str(num2)\n",
    "\n",
    "    m = min(len(n1), len(n2))\n",
    "    m2 = math.floor(m / 2)\n",
    "\n",
    "    b = int(n1[-m2:])\n",
    "    a = int(n1[:len(n1) - m2])\n",
    "\n",
    "    d = int(n2[-m2:])\n",
    "    c = int(n2[:len(n2) - m2])\n",
    "\n",
    "    ac = karatsuba(a, c)\n",
    "     \n",
    "    bd = karatsuba(b, d)\n",
    "\n",
    "     \n",
    "    ad_plus_bc = karatsuba(a + b, c + d) - ac - bd;\n",
    "    \n",
    "    return ac * 10 ** (m2 * 2) + ad_plus_bc * 10 ** m2 + bd;\n",
    "\n"
   ]
  },
  {
   "cell_type": "code",
   "execution_count": 2,
   "id": "93a12a40",
   "metadata": {},
   "outputs": [
    {
     "name": "stdout",
     "output_type": "stream",
     "text": [
      "8539734222673567065463550869546574495034888535765114961879601127067743044893204848617875072216249073013374895871952806582723184\n"
     ]
    }
   ],
   "source": [
    "res = karatsuba(3141592653589793238462643383279502884197169399375105820974944592,2718281828459045235360287471352662497757247093699959574966967627);\n",
    "print(res)"
   ]
  },
  {
   "cell_type": "code",
   "execution_count": null,
   "id": "20f5f27a",
   "metadata": {},
   "outputs": [],
   "source": []
  }
 ],
 "metadata": {
  "kernelspec": {
   "display_name": "Python 3 (ipykernel)",
   "language": "python",
   "name": "python3"
  },
  "language_info": {
   "codemirror_mode": {
    "name": "ipython",
    "version": 3
   },
   "file_extension": ".py",
   "mimetype": "text/x-python",
   "name": "python",
   "nbconvert_exporter": "python",
   "pygments_lexer": "ipython3",
   "version": "3.9.12"
  }
 },
 "nbformat": 4,
 "nbformat_minor": 5
}
